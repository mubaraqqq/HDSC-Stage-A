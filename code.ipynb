{
 "metadata": {
  "language_info": {
   "codemirror_mode": {
    "name": "ipython",
    "version": 3
   },
   "file_extension": ".py",
   "mimetype": "text/x-python",
   "name": "python",
   "nbconvert_exporter": "python",
   "pygments_lexer": "ipython3",
   "version": "3.7.6-final"
  },
  "orig_nbformat": 2,
  "kernelspec": {
   "name": "python3",
   "display_name": "Python 3"
  }
 },
 "nbformat": 4,
 "nbformat_minor": 2,
 "cells": [
  {
   "cell_type": "code",
   "execution_count": 58,
   "metadata": {},
   "outputs": [],
   "source": [
    "#importing all the libraries that will be made use of throughout this exercise\n",
    "import pandas as pd\n",
    "import numpy as np\n",
    "import seaborn as sns"
   ]
  },
  {
   "cell_type": "code",
   "execution_count": 59,
   "metadata": {},
   "outputs": [
    {
     "output_type": "execute_result",
     "data": {
      "text/plain": "                     record_id  utility_id_ferc1  report_year  \\\n0        f1_fuel_1994_12_1_0_7                 1         1994   \n1       f1_fuel_1994_12_1_0_10                 1         1994   \n2        f1_fuel_1994_12_2_0_1                 2         1994   \n3        f1_fuel_1994_12_2_0_7                 2         1994   \n4       f1_fuel_1994_12_2_0_10                 2         1994   \n...                        ...               ...          ...   \n29518  f1_fuel_2018_12_12_0_13                12         2018   \n29519   f1_fuel_2018_12_12_1_1                12         2018   \n29520  f1_fuel_2018_12_12_1_10                12         2018   \n29521  f1_fuel_2018_12_12_1_13                12         2018   \n29522  f1_fuel_2018_12_12_1_14                12         2018   \n\n           plant_name_ferc1 fuel_type_code_pudl fuel_unit  fuel_qty_burned  \\\n0                  rockport                coal       ton        5377489.0   \n1      rockport total plant                coal       ton       10486945.0   \n2                    gorgas                coal       ton        2978683.0   \n3                     barry                coal       ton        3739484.0   \n4                 chickasaw                 gas       mcf          40533.0   \n...                     ...                 ...       ...              ...   \n29518    neil simpson ct #1                 gas       mcf          18799.0   \n29519  cheyenne prairie 58%                 gas       mcf         806730.0   \n29520     lange ct facility                 gas       mcf         104554.0   \n29521       wygen 3 bhp 52%                coal       ton         315945.0   \n29522       wygen 3 bhp 52%                 gas       mcf          17853.0   \n\n       fuel_mmbtu_per_unit  fuel_cost_per_unit_burned  \\\n0                   16.590                      18.59   \n1                   16.592                      18.58   \n2                   24.130                      39.72   \n3                   23.950                      47.21   \n4                    1.000                       2.77   \n...                    ...                        ...   \n29518                1.059                       4.78   \n29519                1.050                       3.65   \n29520                1.060                       4.77   \n29521               16.108                       3.06   \n29522                1.059                       0.00   \n\n       fuel_cost_per_unit_delivered  fuel_cost_per_mmbtu  \n0                             18.53                1.121  \n1                             18.53                1.120  \n2                             38.12                1.650  \n3                             45.99                1.970  \n4                              2.77                2.570  \n...                             ...                  ...  \n29518                          4.78                9.030  \n29519                          3.65                6.950  \n29520                          4.77                8.990  \n29521                         14.76                1.110  \n29522                          0.00               11.680  \n\n[29523 rows x 11 columns]",
      "text/html": "<div>\n<style scoped>\n    .dataframe tbody tr th:only-of-type {\n        vertical-align: middle;\n    }\n\n    .dataframe tbody tr th {\n        vertical-align: top;\n    }\n\n    .dataframe thead th {\n        text-align: right;\n    }\n</style>\n<table border=\"1\" class=\"dataframe\">\n  <thead>\n    <tr style=\"text-align: right;\">\n      <th></th>\n      <th>record_id</th>\n      <th>utility_id_ferc1</th>\n      <th>report_year</th>\n      <th>plant_name_ferc1</th>\n      <th>fuel_type_code_pudl</th>\n      <th>fuel_unit</th>\n      <th>fuel_qty_burned</th>\n      <th>fuel_mmbtu_per_unit</th>\n      <th>fuel_cost_per_unit_burned</th>\n      <th>fuel_cost_per_unit_delivered</th>\n      <th>fuel_cost_per_mmbtu</th>\n    </tr>\n  </thead>\n  <tbody>\n    <tr>\n      <th>0</th>\n      <td>f1_fuel_1994_12_1_0_7</td>\n      <td>1</td>\n      <td>1994</td>\n      <td>rockport</td>\n      <td>coal</td>\n      <td>ton</td>\n      <td>5377489.0</td>\n      <td>16.590</td>\n      <td>18.59</td>\n      <td>18.53</td>\n      <td>1.121</td>\n    </tr>\n    <tr>\n      <th>1</th>\n      <td>f1_fuel_1994_12_1_0_10</td>\n      <td>1</td>\n      <td>1994</td>\n      <td>rockport total plant</td>\n      <td>coal</td>\n      <td>ton</td>\n      <td>10486945.0</td>\n      <td>16.592</td>\n      <td>18.58</td>\n      <td>18.53</td>\n      <td>1.120</td>\n    </tr>\n    <tr>\n      <th>2</th>\n      <td>f1_fuel_1994_12_2_0_1</td>\n      <td>2</td>\n      <td>1994</td>\n      <td>gorgas</td>\n      <td>coal</td>\n      <td>ton</td>\n      <td>2978683.0</td>\n      <td>24.130</td>\n      <td>39.72</td>\n      <td>38.12</td>\n      <td>1.650</td>\n    </tr>\n    <tr>\n      <th>3</th>\n      <td>f1_fuel_1994_12_2_0_7</td>\n      <td>2</td>\n      <td>1994</td>\n      <td>barry</td>\n      <td>coal</td>\n      <td>ton</td>\n      <td>3739484.0</td>\n      <td>23.950</td>\n      <td>47.21</td>\n      <td>45.99</td>\n      <td>1.970</td>\n    </tr>\n    <tr>\n      <th>4</th>\n      <td>f1_fuel_1994_12_2_0_10</td>\n      <td>2</td>\n      <td>1994</td>\n      <td>chickasaw</td>\n      <td>gas</td>\n      <td>mcf</td>\n      <td>40533.0</td>\n      <td>1.000</td>\n      <td>2.77</td>\n      <td>2.77</td>\n      <td>2.570</td>\n    </tr>\n    <tr>\n      <th>...</th>\n      <td>...</td>\n      <td>...</td>\n      <td>...</td>\n      <td>...</td>\n      <td>...</td>\n      <td>...</td>\n      <td>...</td>\n      <td>...</td>\n      <td>...</td>\n      <td>...</td>\n      <td>...</td>\n    </tr>\n    <tr>\n      <th>29518</th>\n      <td>f1_fuel_2018_12_12_0_13</td>\n      <td>12</td>\n      <td>2018</td>\n      <td>neil simpson ct #1</td>\n      <td>gas</td>\n      <td>mcf</td>\n      <td>18799.0</td>\n      <td>1.059</td>\n      <td>4.78</td>\n      <td>4.78</td>\n      <td>9.030</td>\n    </tr>\n    <tr>\n      <th>29519</th>\n      <td>f1_fuel_2018_12_12_1_1</td>\n      <td>12</td>\n      <td>2018</td>\n      <td>cheyenne prairie 58%</td>\n      <td>gas</td>\n      <td>mcf</td>\n      <td>806730.0</td>\n      <td>1.050</td>\n      <td>3.65</td>\n      <td>3.65</td>\n      <td>6.950</td>\n    </tr>\n    <tr>\n      <th>29520</th>\n      <td>f1_fuel_2018_12_12_1_10</td>\n      <td>12</td>\n      <td>2018</td>\n      <td>lange ct facility</td>\n      <td>gas</td>\n      <td>mcf</td>\n      <td>104554.0</td>\n      <td>1.060</td>\n      <td>4.77</td>\n      <td>4.77</td>\n      <td>8.990</td>\n    </tr>\n    <tr>\n      <th>29521</th>\n      <td>f1_fuel_2018_12_12_1_13</td>\n      <td>12</td>\n      <td>2018</td>\n      <td>wygen 3 bhp 52%</td>\n      <td>coal</td>\n      <td>ton</td>\n      <td>315945.0</td>\n      <td>16.108</td>\n      <td>3.06</td>\n      <td>14.76</td>\n      <td>1.110</td>\n    </tr>\n    <tr>\n      <th>29522</th>\n      <td>f1_fuel_2018_12_12_1_14</td>\n      <td>12</td>\n      <td>2018</td>\n      <td>wygen 3 bhp 52%</td>\n      <td>gas</td>\n      <td>mcf</td>\n      <td>17853.0</td>\n      <td>1.059</td>\n      <td>0.00</td>\n      <td>0.00</td>\n      <td>11.680</td>\n    </tr>\n  </tbody>\n</table>\n<p>29523 rows × 11 columns</p>\n</div>"
     },
     "metadata": {},
     "execution_count": 59
    }
   ],
   "source": [
    "#importing the fuel data to be used for this exercise using the pandas method .read_csv()\n",
    "fuel_data = pd.read_csv('fuel_ferc1.csv')\n",
    "fuel_data"
   ]
  },
  {
   "cell_type": "code",
   "execution_count": 60,
   "metadata": {},
   "outputs": [],
   "source": [
    "A = [1,2,3,4,5,6]\n",
    "B = [13, 21, 34]"
   ]
  },
  {
   "cell_type": "code",
   "execution_count": 61,
   "metadata": {},
   "outputs": [
    {
     "output_type": "execute_result",
     "data": {
      "text/plain": "[1, 2, 3, 4, 5, 6, [13, 21, 34]]"
     },
     "metadata": {},
     "execution_count": 61
    }
   ],
   "source": [
    "#To create a 1-D array that mirrors A_B =  [1,2,3,4,5,6,13, 21, 34] we can use either of the following\n",
    "A.append(B)\n",
    "A"
   ]
  },
  {
   "cell_type": "code",
   "execution_count": 62,
   "metadata": {
    "tags": []
   },
   "outputs": [
    {
     "output_type": "execute_result",
     "data": {
      "text/plain": "[1, 2, 3, 4, 5, 6, [13, 21, 34], 13, 21, 34]"
     },
     "metadata": {},
     "execution_count": 62
    }
   ],
   "source": [
    "A.extend(B)\n",
    "A"
   ]
  },
  {
   "cell_type": "code",
   "execution_count": 63,
   "metadata": {},
   "outputs": [
    {
     "output_type": "execute_result",
     "data": {
      "text/plain": "array([[1., 0., 0.],\n       [0., 1., 0.],\n       [0., 0., 1.]])"
     },
     "metadata": {},
     "execution_count": 63
    }
   ],
   "source": [
    "#To create identity matrices, we can use the np.eye(), np.identity() or create it using list literals\n",
    "identity1 = np.identity(3)\n",
    "identity1"
   ]
  },
  {
   "cell_type": "code",
   "execution_count": 64,
   "metadata": {},
   "outputs": [
    {
     "output_type": "execute_result",
     "data": {
      "text/plain": "fuel_type_code_pudl\ncoal         67.421830\ngas          13.659397\nnuclear    4955.157002\noil         168.877086\nother        18.253856\nwaste        19.518122\nName: fuel_cost_per_unit_burned, dtype: float64"
     },
     "metadata": {},
     "execution_count": 64
    }
   ],
   "source": [
    "#this groups the fuel cost per unit burned according to the fuel code using the groupby() function, and the mean() function is called to which presents the mean of the mean of the fuel cost and the fuel code as a series\n",
    "fuel_data['fuel_cost_per_unit_burned'].groupby(fuel_data['fuel_type_code_pudl']).mean()"
   ]
  },
  {
   "cell_type": "code",
   "execution_count": 65,
   "metadata": {},
   "outputs": [
    {
     "output_type": "execute_result",
     "data": {
      "text/plain": "       utility_id_ferc1   report_year  fuel_qty_burned  fuel_mmbtu_per_unit  \\\ncount      29523.000000  29523.000000     2.952300e+04         29523.000000   \nmean         118.601836   2005.806050     2.622119e+06             8.492111   \nstd           74.178353      7.025483     9.118004e+06            10.600220   \nmin            1.000000   1994.000000     1.000000e+00             0.000001   \n25%           55.000000   2000.000000     1.381700e+04             1.024000   \n50%          122.000000   2006.000000     2.533220e+05             5.762694   \n75%          176.000000   2012.000000     1.424034e+06            17.006000   \nmax          514.000000   2018.000000     5.558942e+08           341.260000   \n\n       fuel_cost_per_unit_burned  fuel_cost_per_unit_delivered  \\\ncount               29523.000000                  2.952300e+04   \nmean                  208.649031                  9.175704e+02   \nstd                  2854.490090                  6.877593e+04   \nmin                  -276.080000                 -8.749370e+02   \n25%                     5.207000                  3.778500e+00   \n50%                    26.000000                  1.737100e+01   \n75%                    47.113000                  4.213700e+01   \nmax                139358.000000                  7.964521e+06   \n\n       fuel_cost_per_mmbtu  \ncount         29523.000000  \nmean             19.304354  \nstd            2091.540939  \nmin             -41.501000  \n25%               1.940000  \n50%               4.127000  \n75%               7.745000  \nmax          359278.000000  ",
      "text/html": "<div>\n<style scoped>\n    .dataframe tbody tr th:only-of-type {\n        vertical-align: middle;\n    }\n\n    .dataframe tbody tr th {\n        vertical-align: top;\n    }\n\n    .dataframe thead th {\n        text-align: right;\n    }\n</style>\n<table border=\"1\" class=\"dataframe\">\n  <thead>\n    <tr style=\"text-align: right;\">\n      <th></th>\n      <th>utility_id_ferc1</th>\n      <th>report_year</th>\n      <th>fuel_qty_burned</th>\n      <th>fuel_mmbtu_per_unit</th>\n      <th>fuel_cost_per_unit_burned</th>\n      <th>fuel_cost_per_unit_delivered</th>\n      <th>fuel_cost_per_mmbtu</th>\n    </tr>\n  </thead>\n  <tbody>\n    <tr>\n      <th>count</th>\n      <td>29523.000000</td>\n      <td>29523.000000</td>\n      <td>2.952300e+04</td>\n      <td>29523.000000</td>\n      <td>29523.000000</td>\n      <td>2.952300e+04</td>\n      <td>29523.000000</td>\n    </tr>\n    <tr>\n      <th>mean</th>\n      <td>118.601836</td>\n      <td>2005.806050</td>\n      <td>2.622119e+06</td>\n      <td>8.492111</td>\n      <td>208.649031</td>\n      <td>9.175704e+02</td>\n      <td>19.304354</td>\n    </tr>\n    <tr>\n      <th>std</th>\n      <td>74.178353</td>\n      <td>7.025483</td>\n      <td>9.118004e+06</td>\n      <td>10.600220</td>\n      <td>2854.490090</td>\n      <td>6.877593e+04</td>\n      <td>2091.540939</td>\n    </tr>\n    <tr>\n      <th>min</th>\n      <td>1.000000</td>\n      <td>1994.000000</td>\n      <td>1.000000e+00</td>\n      <td>0.000001</td>\n      <td>-276.080000</td>\n      <td>-8.749370e+02</td>\n      <td>-41.501000</td>\n    </tr>\n    <tr>\n      <th>25%</th>\n      <td>55.000000</td>\n      <td>2000.000000</td>\n      <td>1.381700e+04</td>\n      <td>1.024000</td>\n      <td>5.207000</td>\n      <td>3.778500e+00</td>\n      <td>1.940000</td>\n    </tr>\n    <tr>\n      <th>50%</th>\n      <td>122.000000</td>\n      <td>2006.000000</td>\n      <td>2.533220e+05</td>\n      <td>5.762694</td>\n      <td>26.000000</td>\n      <td>1.737100e+01</td>\n      <td>4.127000</td>\n    </tr>\n    <tr>\n      <th>75%</th>\n      <td>176.000000</td>\n      <td>2012.000000</td>\n      <td>1.424034e+06</td>\n      <td>17.006000</td>\n      <td>47.113000</td>\n      <td>4.213700e+01</td>\n      <td>7.745000</td>\n    </tr>\n    <tr>\n      <th>max</th>\n      <td>514.000000</td>\n      <td>2018.000000</td>\n      <td>5.558942e+08</td>\n      <td>341.260000</td>\n      <td>139358.000000</td>\n      <td>7.964521e+06</td>\n      <td>359278.000000</td>\n    </tr>\n  </tbody>\n</table>\n</div>"
     },
     "metadata": {},
     "execution_count": 65
    }
   ],
   "source": [
    "fuel_data.describe() #this gives us an overall view of the statistical properties of the dataframe, from which the standard deviation and 75% quartile can be viewed for any column"
   ]
  },
  {
   "cell_type": "code",
   "execution_count": 66,
   "metadata": {},
   "outputs": [
    {
     "output_type": "execute_result",
     "data": {
      "text/plain": "651.3694501337732"
     },
     "metadata": {},
     "execution_count": 66
    }
   ],
   "source": [
    "fuel_data['fuel_qty_burned'].kurt()#using the kurtosis function on the fuel qty burned column"
   ]
  },
  {
   "cell_type": "code",
   "execution_count": 67,
   "metadata": {},
   "outputs": [
    {
     "output_type": "execute_result",
     "data": {
      "text/plain": "15.851495469109503"
     },
     "metadata": {},
     "execution_count": 67
    }
   ],
   "source": [
    "fuel_data['fuel_qty_burned'].skew() #using the skew function the fuel qty burned column"
   ]
  },
  {
   "cell_type": "code",
   "execution_count": 68,
   "metadata": {},
   "outputs": [
    {
     "output_type": "execute_result",
     "data": {
      "text/plain": "record_id                         0\nutility_id_ferc1                  0\nreport_year                       0\nplant_name_ferc1                  0\nfuel_type_code_pudl               0\nfuel_unit                       180\nfuel_qty_burned                   0\nfuel_mmbtu_per_unit               0\nfuel_cost_per_unit_burned         0\nfuel_cost_per_unit_delivered      0\nfuel_cost_per_mmbtu               0\ndtype: int64"
     },
     "metadata": {},
     "execution_count": 68
    }
   ],
   "source": [
    "missing_values = fuel_data.isnull()\n",
    "missing_values.sum()\n",
    "#this gives 180 rows with missing values only in the fuel_unit column"
   ]
  },
  {
   "cell_type": "markdown",
   "metadata": {},
   "source": [
    "total number of missing values is 180, and the percentage of missing rows aree calculated below"
   ]
  },
  {
   "cell_type": "code",
   "execution_count": 69,
   "metadata": {},
   "outputs": [],
   "source": [
    "x = fuel_data['fuel_unit'].isnull().sum() #getting the number of rows of fuel unit that has missing values as an integer value\n",
    "y = len(fuel_data.index)#getting the total number of rows of the dataframe"
   ]
  },
  {
   "cell_type": "code",
   "execution_count": 70,
   "metadata": {},
   "outputs": [
    {
     "output_type": "execute_result",
     "data": {
      "text/plain": "99.39030586322528"
     },
     "metadata": {},
     "execution_count": 70
    }
   ],
   "source": [
    "percent_missing = ((y-x)/y) * 100\n",
    "percent_missing"
   ]
  },
  {
   "cell_type": "markdown",
   "metadata": {},
   "source": [
    "the missing values are categorical because they are words that are repeated, and not integers. The can be filled with the mode imputation as below\n"
   ]
  },
  {
   "cell_type": "code",
   "execution_count": 71,
   "metadata": {},
   "outputs": [],
   "source": [
    "fuel_data['fuel_unit'].fillna(fuel_data['fuel_unit'].mode()[0], inplace=True)"
   ]
  },
  {
   "cell_type": "code",
   "execution_count": 72,
   "metadata": {},
   "outputs": [
    {
     "output_type": "execute_result",
     "data": {
      "text/plain": "                              utility_id_ferc1  report_year  fuel_qty_burned  \\\nutility_id_ferc1                      1.000000     0.093323        -0.057447   \nreport_year                           0.093323     1.000000         0.012952   \nfuel_qty_burned                      -0.057447     0.012952         1.000000   \nfuel_mmbtu_per_unit                  -0.066946    -0.110853        -0.080946   \nfuel_cost_per_unit_burned            -0.037863     0.013599        -0.018535   \nfuel_cost_per_unit_delivered         -0.016414    -0.014043        -0.003551   \nfuel_cost_per_mmbtu                   0.006122     0.010261        -0.001896   \n\n                              fuel_mmbtu_per_unit  fuel_cost_per_unit_burned  \\\nutility_id_ferc1                        -0.066946                  -0.037863   \nreport_year                             -0.110853                   0.013599   \nfuel_qty_burned                         -0.080946                  -0.018535   \nfuel_mmbtu_per_unit                      1.000000                  -0.010034   \nfuel_cost_per_unit_burned               -0.010034                   1.000000   \nfuel_cost_per_unit_delivered            -0.009039                   0.011007   \nfuel_cost_per_mmbtu                     -0.005884                  -0.000437   \n\n                              fuel_cost_per_unit_delivered  \\\nutility_id_ferc1                                 -0.016414   \nreport_year                                      -0.014043   \nfuel_qty_burned                                  -0.003551   \nfuel_mmbtu_per_unit                              -0.009039   \nfuel_cost_per_unit_burned                         0.011007   \nfuel_cost_per_unit_delivered                      1.000000   \nfuel_cost_per_mmbtu                              -0.000109   \n\n                              fuel_cost_per_mmbtu  \nutility_id_ferc1                         0.006122  \nreport_year                              0.010261  \nfuel_qty_burned                         -0.001896  \nfuel_mmbtu_per_unit                     -0.005884  \nfuel_cost_per_unit_burned               -0.000437  \nfuel_cost_per_unit_delivered            -0.000109  \nfuel_cost_per_mmbtu                      1.000000  ",
      "text/html": "<div>\n<style scoped>\n    .dataframe tbody tr th:only-of-type {\n        vertical-align: middle;\n    }\n\n    .dataframe tbody tr th {\n        vertical-align: top;\n    }\n\n    .dataframe thead th {\n        text-align: right;\n    }\n</style>\n<table border=\"1\" class=\"dataframe\">\n  <thead>\n    <tr style=\"text-align: right;\">\n      <th></th>\n      <th>utility_id_ferc1</th>\n      <th>report_year</th>\n      <th>fuel_qty_burned</th>\n      <th>fuel_mmbtu_per_unit</th>\n      <th>fuel_cost_per_unit_burned</th>\n      <th>fuel_cost_per_unit_delivered</th>\n      <th>fuel_cost_per_mmbtu</th>\n    </tr>\n  </thead>\n  <tbody>\n    <tr>\n      <th>utility_id_ferc1</th>\n      <td>1.000000</td>\n      <td>0.093323</td>\n      <td>-0.057447</td>\n      <td>-0.066946</td>\n      <td>-0.037863</td>\n      <td>-0.016414</td>\n      <td>0.006122</td>\n    </tr>\n    <tr>\n      <th>report_year</th>\n      <td>0.093323</td>\n      <td>1.000000</td>\n      <td>0.012952</td>\n      <td>-0.110853</td>\n      <td>0.013599</td>\n      <td>-0.014043</td>\n      <td>0.010261</td>\n    </tr>\n    <tr>\n      <th>fuel_qty_burned</th>\n      <td>-0.057447</td>\n      <td>0.012952</td>\n      <td>1.000000</td>\n      <td>-0.080946</td>\n      <td>-0.018535</td>\n      <td>-0.003551</td>\n      <td>-0.001896</td>\n    </tr>\n    <tr>\n      <th>fuel_mmbtu_per_unit</th>\n      <td>-0.066946</td>\n      <td>-0.110853</td>\n      <td>-0.080946</td>\n      <td>1.000000</td>\n      <td>-0.010034</td>\n      <td>-0.009039</td>\n      <td>-0.005884</td>\n    </tr>\n    <tr>\n      <th>fuel_cost_per_unit_burned</th>\n      <td>-0.037863</td>\n      <td>0.013599</td>\n      <td>-0.018535</td>\n      <td>-0.010034</td>\n      <td>1.000000</td>\n      <td>0.011007</td>\n      <td>-0.000437</td>\n    </tr>\n    <tr>\n      <th>fuel_cost_per_unit_delivered</th>\n      <td>-0.016414</td>\n      <td>-0.014043</td>\n      <td>-0.003551</td>\n      <td>-0.009039</td>\n      <td>0.011007</td>\n      <td>1.000000</td>\n      <td>-0.000109</td>\n    </tr>\n    <tr>\n      <th>fuel_cost_per_mmbtu</th>\n      <td>0.006122</td>\n      <td>0.010261</td>\n      <td>-0.001896</td>\n      <td>-0.005884</td>\n      <td>-0.000437</td>\n      <td>-0.000109</td>\n      <td>1.000000</td>\n    </tr>\n  </tbody>\n</table>\n</div>"
     },
     "metadata": {},
     "execution_count": 72
    }
   ],
   "source": [
    "fuel_data.corr()"
   ]
  },
  {
   "cell_type": "code",
   "execution_count": 73,
   "metadata": {},
   "outputs": [
    {
     "output_type": "execute_result",
     "data": {
      "text/plain": "report_year\n1994       63.636060\n1995       32.735269\n1996     9196.705948\n1997    11140.197239\n1998      287.154420\n1999       25.551627\n2000      985.362877\n2001       60.050396\n2002       47.594361\n2003       55.663493\n2004      139.524275\n2005       41.438184\n2006       38.657484\n2007       43.325023\n2008       58.588197\n2009      652.694163\n2010       91.862105\n2011       59.774667\n2012       60.994502\n2013      172.307591\n2014      192.737183\n2015      326.535511\n2016      103.901761\n2017       46.196861\n2018      499.269966\nName: fuel_cost_per_unit_delivered, dtype: float64"
     },
     "metadata": {},
     "execution_count": 73
    }
   ],
   "source": [
    "#the data is grouped by the report year since that is the basis of the calculations, using the groupby fuction. The the average fuel cost is done by referencing the fuel cost per unit delivered column and then applying the mean() function to it\n",
    "fuel_data['fuel_cost_per_unit_delivered'].groupby(fuel_data['report_year']).mean()\n",
    "#we can see below that the year with the highest average fuel cost per unit delivered is 1997"
   ]
  },
  {
   "cell_type": "code",
   "execution_count": null,
   "metadata": {},
   "outputs": [],
   "source": []
  }
 ]
}