{
 "metadata": {
  "language_info": {
   "codemirror_mode": {
    "name": "ipython",
    "version": 3
   },
   "file_extension": ".py",
   "mimetype": "text/x-python",
   "name": "python",
   "nbconvert_exporter": "python",
   "pygments_lexer": "ipython3",
   "version": "3.7.6-final"
  },
  "orig_nbformat": 2,
  "kernelspec": {
   "name": "python3",
   "display_name": "Python 3"
  }
 },
 "nbformat": 4,
 "nbformat_minor": 2,
 "cells": [
  {
   "cell_type": "code",
   "execution_count": 1,
   "metadata": {},
   "outputs": [],
   "source": [
    "#importing all the libraries that will be made use of throughout this exercise\n",
    "import pandas as pd\n",
    "import numpy as np\n",
    "import seaborn as sns"
   ]
  },
  {
   "cell_type": "code",
   "execution_count": 2,
   "metadata": {},
   "outputs": [
    {
     "output_type": "execute_result",
     "data": {
      "text/plain": "                     record_id  utility_id_ferc1  report_year  \\\n0        f1_fuel_1994_12_1_0_7                 1         1994   \n1       f1_fuel_1994_12_1_0_10                 1         1994   \n2        f1_fuel_1994_12_2_0_1                 2         1994   \n3        f1_fuel_1994_12_2_0_7                 2         1994   \n4       f1_fuel_1994_12_2_0_10                 2         1994   \n...                        ...               ...          ...   \n29518  f1_fuel_2018_12_12_0_13                12         2018   \n29519   f1_fuel_2018_12_12_1_1                12         2018   \n29520  f1_fuel_2018_12_12_1_10                12         2018   \n29521  f1_fuel_2018_12_12_1_13                12         2018   \n29522  f1_fuel_2018_12_12_1_14                12         2018   \n\n           plant_name_ferc1 fuel_type_code_pudl fuel_unit  fuel_qty_burned  \\\n0                  rockport                coal       ton        5377489.0   \n1      rockport total plant                coal       ton       10486945.0   \n2                    gorgas                coal       ton        2978683.0   \n3                     barry                coal       ton        3739484.0   \n4                 chickasaw                 gas       mcf          40533.0   \n...                     ...                 ...       ...              ...   \n29518    neil simpson ct #1                 gas       mcf          18799.0   \n29519  cheyenne prairie 58%                 gas       mcf         806730.0   \n29520     lange ct facility                 gas       mcf         104554.0   \n29521       wygen 3 bhp 52%                coal       ton         315945.0   \n29522       wygen 3 bhp 52%                 gas       mcf          17853.0   \n\n       fuel_mmbtu_per_unit  fuel_cost_per_unit_burned  \\\n0                   16.590                      18.59   \n1                   16.592                      18.58   \n2                   24.130                      39.72   \n3                   23.950                      47.21   \n4                    1.000                       2.77   \n...                    ...                        ...   \n29518                1.059                       4.78   \n29519                1.050                       3.65   \n29520                1.060                       4.77   \n29521               16.108                       3.06   \n29522                1.059                       0.00   \n\n       fuel_cost_per_unit_delivered  fuel_cost_per_mmbtu  \n0                             18.53                1.121  \n1                             18.53                1.120  \n2                             38.12                1.650  \n3                             45.99                1.970  \n4                              2.77                2.570  \n...                             ...                  ...  \n29518                          4.78                9.030  \n29519                          3.65                6.950  \n29520                          4.77                8.990  \n29521                         14.76                1.110  \n29522                          0.00               11.680  \n\n[29523 rows x 11 columns]",
      "text/html": "<div>\n<style scoped>\n    .dataframe tbody tr th:only-of-type {\n        vertical-align: middle;\n    }\n\n    .dataframe tbody tr th {\n        vertical-align: top;\n    }\n\n    .dataframe thead th {\n        text-align: right;\n    }\n</style>\n<table border=\"1\" class=\"dataframe\">\n  <thead>\n    <tr style=\"text-align: right;\">\n      <th></th>\n      <th>record_id</th>\n      <th>utility_id_ferc1</th>\n      <th>report_year</th>\n      <th>plant_name_ferc1</th>\n      <th>fuel_type_code_pudl</th>\n      <th>fuel_unit</th>\n      <th>fuel_qty_burned</th>\n      <th>fuel_mmbtu_per_unit</th>\n      <th>fuel_cost_per_unit_burned</th>\n      <th>fuel_cost_per_unit_delivered</th>\n      <th>fuel_cost_per_mmbtu</th>\n    </tr>\n  </thead>\n  <tbody>\n    <tr>\n      <th>0</th>\n      <td>f1_fuel_1994_12_1_0_7</td>\n      <td>1</td>\n      <td>1994</td>\n      <td>rockport</td>\n      <td>coal</td>\n      <td>ton</td>\n      <td>5377489.0</td>\n      <td>16.590</td>\n      <td>18.59</td>\n      <td>18.53</td>\n      <td>1.121</td>\n    </tr>\n    <tr>\n      <th>1</th>\n      <td>f1_fuel_1994_12_1_0_10</td>\n      <td>1</td>\n      <td>1994</td>\n      <td>rockport total plant</td>\n      <td>coal</td>\n      <td>ton</td>\n      <td>10486945.0</td>\n      <td>16.592</td>\n      <td>18.58</td>\n      <td>18.53</td>\n      <td>1.120</td>\n    </tr>\n    <tr>\n      <th>2</th>\n      <td>f1_fuel_1994_12_2_0_1</td>\n      <td>2</td>\n      <td>1994</td>\n      <td>gorgas</td>\n      <td>coal</td>\n      <td>ton</td>\n      <td>2978683.0</td>\n      <td>24.130</td>\n      <td>39.72</td>\n      <td>38.12</td>\n      <td>1.650</td>\n    </tr>\n    <tr>\n      <th>3</th>\n      <td>f1_fuel_1994_12_2_0_7</td>\n      <td>2</td>\n      <td>1994</td>\n      <td>barry</td>\n      <td>coal</td>\n      <td>ton</td>\n      <td>3739484.0</td>\n      <td>23.950</td>\n      <td>47.21</td>\n      <td>45.99</td>\n      <td>1.970</td>\n    </tr>\n    <tr>\n      <th>4</th>\n      <td>f1_fuel_1994_12_2_0_10</td>\n      <td>2</td>\n      <td>1994</td>\n      <td>chickasaw</td>\n      <td>gas</td>\n      <td>mcf</td>\n      <td>40533.0</td>\n      <td>1.000</td>\n      <td>2.77</td>\n      <td>2.77</td>\n      <td>2.570</td>\n    </tr>\n    <tr>\n      <th>...</th>\n      <td>...</td>\n      <td>...</td>\n      <td>...</td>\n      <td>...</td>\n      <td>...</td>\n      <td>...</td>\n      <td>...</td>\n      <td>...</td>\n      <td>...</td>\n      <td>...</td>\n      <td>...</td>\n    </tr>\n    <tr>\n      <th>29518</th>\n      <td>f1_fuel_2018_12_12_0_13</td>\n      <td>12</td>\n      <td>2018</td>\n      <td>neil simpson ct #1</td>\n      <td>gas</td>\n      <td>mcf</td>\n      <td>18799.0</td>\n      <td>1.059</td>\n      <td>4.78</td>\n      <td>4.78</td>\n      <td>9.030</td>\n    </tr>\n    <tr>\n      <th>29519</th>\n      <td>f1_fuel_2018_12_12_1_1</td>\n      <td>12</td>\n      <td>2018</td>\n      <td>cheyenne prairie 58%</td>\n      <td>gas</td>\n      <td>mcf</td>\n      <td>806730.0</td>\n      <td>1.050</td>\n      <td>3.65</td>\n      <td>3.65</td>\n      <td>6.950</td>\n    </tr>\n    <tr>\n      <th>29520</th>\n      <td>f1_fuel_2018_12_12_1_10</td>\n      <td>12</td>\n      <td>2018</td>\n      <td>lange ct facility</td>\n      <td>gas</td>\n      <td>mcf</td>\n      <td>104554.0</td>\n      <td>1.060</td>\n      <td>4.77</td>\n      <td>4.77</td>\n      <td>8.990</td>\n    </tr>\n    <tr>\n      <th>29521</th>\n      <td>f1_fuel_2018_12_12_1_13</td>\n      <td>12</td>\n      <td>2018</td>\n      <td>wygen 3 bhp 52%</td>\n      <td>coal</td>\n      <td>ton</td>\n      <td>315945.0</td>\n      <td>16.108</td>\n      <td>3.06</td>\n      <td>14.76</td>\n      <td>1.110</td>\n    </tr>\n    <tr>\n      <th>29522</th>\n      <td>f1_fuel_2018_12_12_1_14</td>\n      <td>12</td>\n      <td>2018</td>\n      <td>wygen 3 bhp 52%</td>\n      <td>gas</td>\n      <td>mcf</td>\n      <td>17853.0</td>\n      <td>1.059</td>\n      <td>0.00</td>\n      <td>0.00</td>\n      <td>11.680</td>\n    </tr>\n  </tbody>\n</table>\n<p>29523 rows × 11 columns</p>\n</div>"
     },
     "metadata": {},
     "execution_count": 2
    }
   ],
   "source": [
    "#importing the fuel data to be used for this exercise using the pandas method .read_csv()\n",
    "fuel_data = pd.read_csv('fuel_ferc1.csv')\n",
    "fuel_data"
   ]
  }
 ]
}